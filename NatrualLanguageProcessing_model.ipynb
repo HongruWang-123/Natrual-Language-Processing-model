{
  "cells": [
    {
      "cell_type": "markdown",
      "source": [
        "## Mount to Google Drive"
      ],
      "metadata": {
        "id": "3mCmZFCJWqXs"
      }
    },
    {
      "cell_type": "code",
      "execution_count": 3,
      "metadata": {
        "colab": {
          "base_uri": "https://localhost:8080/"
        },
        "id": "weDwpUkDIkjW",
        "outputId": "636174b8-beb3-4edc-afc2-cf403593b372"
      },
      "outputs": [
        {
          "output_type": "stream",
          "name": "stdout",
          "text": [
            "Mounted at /content/gdrive/\n"
          ]
        }
      ],
      "source": [
        "from google.colab import drive\n",
        "\n",
        "drive.mount('/content/gdrive/', force_remount=True)"
      ]
    },
    {
      "cell_type": "markdown",
      "metadata": {
        "id": "Q4DN769E2O_R"
      },
      "source": [
        "## Setup"
      ]
    },
    {
      "cell_type": "code",
      "execution_count": 31,
      "metadata": {
        "id": "2ew7HTbPpCJH"
      },
      "outputs": [],
      "source": [
        "import numpy as np\n",
        "\n",
        "import tensorflow as tf\n",
        "import tensorflow_hub as hub\n",
        "import tensorflow_datasets as tfds\n",
        "\n",
        "import matplotlib.pyplot as plt\n",
        "import pandas as pd"
      ]
    },
    {
      "cell_type": "markdown",
      "metadata": {
        "id": "iAsKG535pHep"
      },
      "source": [
        "## Read the Yelp Dataset"
      ]
    },
    {
      "cell_type": "code",
      "execution_count": 32,
      "metadata": {
        "colab": {
          "base_uri": "https://localhost:8080/"
        },
        "id": "zXXx5Oc3pOmN",
        "outputId": "ee3023d0-6525-4f25-a0cc-bd913ee95ff7"
      },
      "outputs": [
        {
          "output_type": "stream",
          "name": "stdout",
          "text": [
            "38348\n",
            "11897\n",
            "5755\n"
          ]
        }
      ],
      "source": [
        "df = pd.read_csv(\"/content/gdrive/MyDrive/train3.csv\")\n",
        "print((df['Class'] == 'positive').sum())\n",
        "print((df['Class'] == 'negative').sum())\n",
        "print((df['Class'] == 'neutral').sum())"
      ]
    },
    {
      "cell_type": "code",
      "source": [
        "def convert_to_number(class_name):\n",
        "  if class_name == \"positive\":\n",
        "    return 1\n",
        "  elif class_name == \"neutral\":\n",
        "    return 0\n",
        "  else:\n",
        "    return 2\n",
        "\n",
        "df['Class'] = df['Class'].map(convert_to_number)\n",
        "print(df.shape)"
      ],
      "metadata": {
        "colab": {
          "base_uri": "https://localhost:8080/"
        },
        "id": "WxT0QvaaYMOR",
        "outputId": "e5db77c5-61b5-4dc0-f38f-b142186a996f"
      },
      "execution_count": 33,
      "outputs": [
        {
          "output_type": "stream",
          "name": "stdout",
          "text": [
            "(56000, 3)\n"
          ]
        }
      ]
    },
    {
      "cell_type": "markdown",
      "source": [
        "## Remove Stop words, punctuation and Lemmatization"
      ],
      "metadata": {
        "id": "DOOEPFhtT7DF"
      }
    },
    {
      "cell_type": "code",
      "source": [
        "import string\n",
        "import re\n",
        "import nltk\n",
        "\n",
        "nltk.download('stopwords')\n",
        "\n",
        "def erase_punctuation(text):\n",
        "  translator = str.maketrans(\"\", \"\", string.punctuation)\n",
        "  return text.translate(translator)\n",
        "\n",
        "new_stopwords = []\n",
        "with open('/content/gdrive/MyDrive/stop_words.lst') as f:\n",
        "    for line in f:\n",
        "      new_stopwords.append(line.strip())\n",
        "print(new_stopwords)\n",
        "\n",
        "from nltk.corpus import stopwords\n",
        "stpwrd = nltk.corpus.stopwords.words('english')\n",
        "stpwrd.extend(new_stopwords)\n",
        "print(len(stpwrd))\n",
        "# remove duplicate stop words\n",
        "stopwords = set(stpwrd)\n",
        "print(len(stopwords))\n",
        "\n",
        "def remove_stop(text):\n",
        "  filtered_words = [word.lower() for word in text.split() if word.lower() not in stopwords]\n",
        "  return \" \".join(filtered_words)\n",
        "\n",
        "nltk.download('punkt')\n",
        "nltk.download('wordnet')\n",
        "nltk.download('omw-1.4')\n",
        "from nltk.stem.wordnet import WordNetLemmatizer\n",
        "from nltk.corpus import wordnet\n",
        "\n",
        "lemmatizer = WordNetLemmatizer()\n",
        "def lemmatization(x):\n",
        "  new_x = []\n",
        "  for word in str(x).split():\n",
        "    new_x.append(lemmatizer.lemmatize(word))\n",
        "  return ' '.join(new_x)"
      ],
      "metadata": {
        "colab": {
          "base_uri": "https://localhost:8080/"
        },
        "id": "go03iKM1T_5S",
        "outputId": "bd27d9b1-13c4-45de-c4b4-7aaeb7cb44ba"
      },
      "execution_count": 34,
      "outputs": [
        {
          "output_type": "stream",
          "name": "stdout",
          "text": [
            "['a', 'about', 'above', 'across', 'after', 'afterwards', 'again', 'against', 'all', 'almost', 'alone', 'along', 'already', 'also', 'although', 'always', 'am', 'among', 'amongst', 'amoungst', 'amount', 'an', 'and', 'another', 'any', 'anyhow', 'anyone', 'anything', 'anyway', 'anywhere', 'are', 'around', 'as', 'at', 'back', 'be', 'became', 'because', 'become', 'becomes', 'becoming', 'been', 'before', 'beforehand', 'behind', 'being', 'below', 'beside', 'besides', 'between', 'beyond', 'bill', 'both', 'bottom', 'but', 'by', 'call', 'can', 'cannot', 'cant', 'co', 'computer', 'con', 'could', 'couldnt', 'cry', 'de', 'describe', 'detail', 'do', 'done', 'down', 'due', 'during', 'each', 'eg', 'eight', 'either', 'eleven', 'else', 'elsewhere', 'empty', 'enough', 'etc', 'even', 'ever', 'every', 'everyone', 'everything', 'everywhere', 'except', 'few', 'fifteen', 'fify', 'fill', 'find', 'fire', 'first', 'five', 'for', 'former', 'formerly', 'forty', 'found', 'four', 'from', 'front', 'full', 'further', 'get', 'give', 'go', 'had', 'has', 'hasnt', 'have', 'he', 'hence', 'her', 'here', 'hereafter', 'hereby', 'herein', 'hereupon', 'hers', 'herself', 'him', 'himself', 'his', 'how', 'however', 'hundred', 'i', 'ie', 'if', 'in', 'inc', 'indeed', 'interest', 'into', 'is', 'it', 'its', 'itself', 'keep', 'last', 'latter', 'latterly', 'least', 'less', 'ltd', 'made', 'many', 'may', 'me', 'meanwhile', 'might', 'mill', 'mine', 'more', 'moreover', 'most', 'mostly', 'move', 'much', 'must', 'my', 'myself', 'name', 'namely', 'neither', 'never', 'nevertheless', 'next', 'nine', 'no', 'nobody', 'none', 'noone', 'nor', 'not', 'nothing', 'now', 'nowhere', 'of', 'off', 'often', 'on', 'once', 'one', 'only', 'onto', 'or', 'other', 'others', 'otherwise', 'our', 'ours', 'ourselves', 'out', 'over', 'own', 'part', 'per', 'perhaps', 'please', 'put', 'rather', 're', 'same', 'see', 'seem', 'seemed', 'seeming', 'seems', 'serious', 'several', 'she', 'should', 'show', 'side', 'since', 'sincere', 'six', 'sixty', 'so', 'some', 'somehow', 'someone', 'something', 'sometime', 'sometimes', 'somewhere', 'still', 'such', 'system', 'take', 'ten', 'than', 'that', 'the', 'their', 'them', 'themselves', 'then', 'thence', 'there', 'thereafter', 'thereby', 'therefore', 'therein', 'thereupon', 'these', 'they', 'thick', 'thin', 'third', 'this', 'those', 'though', 'three', 'through', 'throughout', 'thru', 'thus', 'to', 'together', 'too', 'top', 'toward', 'towards', 'twelve', 'twenty', 'two', 'un', 'under', 'until', 'up', 'upon', 'us', 'very', 'via', 'was', 'we', 'well', 'were', 'what', 'whatever', 'when', 'whence', 'whenever', 'where', 'whereafter', 'whereas', 'whereby', 'wherein', 'whereupon', 'wherever', 'whether', 'which', 'while', 'whither', 'who', 'whoever', 'whole', 'whom', 'whose', 'why', 'will', 'with', 'within', 'without', 'would', 'yet', 'you', 'your', 'yours', 'yourself', 'yourselves']\n",
            "498\n",
            "379\n"
          ]
        },
        {
          "output_type": "stream",
          "name": "stderr",
          "text": [
            "[nltk_data] Downloading package stopwords to /root/nltk_data...\n",
            "[nltk_data]   Package stopwords is already up-to-date!\n",
            "[nltk_data] Downloading package punkt to /root/nltk_data...\n",
            "[nltk_data]   Package punkt is already up-to-date!\n",
            "[nltk_data] Downloading package wordnet to /root/nltk_data...\n",
            "[nltk_data]   Package wordnet is already up-to-date!\n",
            "[nltk_data] Downloading package omw-1.4 to /root/nltk_data...\n",
            "[nltk_data]   Package omw-1.4 is already up-to-date!\n"
          ]
        }
      ]
    },
    {
      "cell_type": "code",
      "source": [
        "df['Text'] = df['Text'].apply(lambda x: erase_punctuation(x))\n",
        "df['Text'] = df['Text'].apply(lambda x: remove_stop(x))\n",
        "df['Text'] = df['Text'].apply(lambda x: lemmatization(x))\n",
        "df.head()"
      ],
      "metadata": {
        "colab": {
          "base_uri": "https://localhost:8080/",
          "height": 206
        },
        "id": "-dGYdJOpUgJV",
        "outputId": "64172d35-2597-4467-e4c8-a10d55534778"
      },
      "execution_count": 35,
      "outputs": [
        {
          "output_type": "execute_result",
          "data": {
            "text/plain": [
              "                                                Text  Class       ID\n",
              "0  fun little place stop lunch plenty parking tab...      1  1307144\n",
              "1  place packed went late night food serve late a...      2  5544361\n",
              "2  board plane 30 minute actual flight make sure ...      1  5956200\n",
              "3  chaotic 4 story place fun kid white chocolate ...      1   718388\n",
              "4  intentionally capsizing sailboat ttl spent goo...      0   174754"
            ],
            "text/html": [
              "\n",
              "  <div id=\"df-7c3400ed-c8dd-46f0-9292-bf2c7d3ab78d\">\n",
              "    <div class=\"colab-df-container\">\n",
              "      <div>\n",
              "<style scoped>\n",
              "    .dataframe tbody tr th:only-of-type {\n",
              "        vertical-align: middle;\n",
              "    }\n",
              "\n",
              "    .dataframe tbody tr th {\n",
              "        vertical-align: top;\n",
              "    }\n",
              "\n",
              "    .dataframe thead th {\n",
              "        text-align: right;\n",
              "    }\n",
              "</style>\n",
              "<table border=\"1\" class=\"dataframe\">\n",
              "  <thead>\n",
              "    <tr style=\"text-align: right;\">\n",
              "      <th></th>\n",
              "      <th>Text</th>\n",
              "      <th>Class</th>\n",
              "      <th>ID</th>\n",
              "    </tr>\n",
              "  </thead>\n",
              "  <tbody>\n",
              "    <tr>\n",
              "      <th>0</th>\n",
              "      <td>fun little place stop lunch plenty parking tab...</td>\n",
              "      <td>1</td>\n",
              "      <td>1307144</td>\n",
              "    </tr>\n",
              "    <tr>\n",
              "      <th>1</th>\n",
              "      <td>place packed went late night food serve late a...</td>\n",
              "      <td>2</td>\n",
              "      <td>5544361</td>\n",
              "    </tr>\n",
              "    <tr>\n",
              "      <th>2</th>\n",
              "      <td>board plane 30 minute actual flight make sure ...</td>\n",
              "      <td>1</td>\n",
              "      <td>5956200</td>\n",
              "    </tr>\n",
              "    <tr>\n",
              "      <th>3</th>\n",
              "      <td>chaotic 4 story place fun kid white chocolate ...</td>\n",
              "      <td>1</td>\n",
              "      <td>718388</td>\n",
              "    </tr>\n",
              "    <tr>\n",
              "      <th>4</th>\n",
              "      <td>intentionally capsizing sailboat ttl spent goo...</td>\n",
              "      <td>0</td>\n",
              "      <td>174754</td>\n",
              "    </tr>\n",
              "  </tbody>\n",
              "</table>\n",
              "</div>\n",
              "      <button class=\"colab-df-convert\" onclick=\"convertToInteractive('df-7c3400ed-c8dd-46f0-9292-bf2c7d3ab78d')\"\n",
              "              title=\"Convert this dataframe to an interactive table.\"\n",
              "              style=\"display:none;\">\n",
              "        \n",
              "  <svg xmlns=\"http://www.w3.org/2000/svg\" height=\"24px\"viewBox=\"0 0 24 24\"\n",
              "       width=\"24px\">\n",
              "    <path d=\"M0 0h24v24H0V0z\" fill=\"none\"/>\n",
              "    <path d=\"M18.56 5.44l.94 2.06.94-2.06 2.06-.94-2.06-.94-.94-2.06-.94 2.06-2.06.94zm-11 1L8.5 8.5l.94-2.06 2.06-.94-2.06-.94L8.5 2.5l-.94 2.06-2.06.94zm10 10l.94 2.06.94-2.06 2.06-.94-2.06-.94-.94-2.06-.94 2.06-2.06.94z\"/><path d=\"M17.41 7.96l-1.37-1.37c-.4-.4-.92-.59-1.43-.59-.52 0-1.04.2-1.43.59L10.3 9.45l-7.72 7.72c-.78.78-.78 2.05 0 2.83L4 21.41c.39.39.9.59 1.41.59.51 0 1.02-.2 1.41-.59l7.78-7.78 2.81-2.81c.8-.78.8-2.07 0-2.86zM5.41 20L4 18.59l7.72-7.72 1.47 1.35L5.41 20z\"/>\n",
              "  </svg>\n",
              "      </button>\n",
              "      \n",
              "  <style>\n",
              "    .colab-df-container {\n",
              "      display:flex;\n",
              "      flex-wrap:wrap;\n",
              "      gap: 12px;\n",
              "    }\n",
              "\n",
              "    .colab-df-convert {\n",
              "      background-color: #E8F0FE;\n",
              "      border: none;\n",
              "      border-radius: 50%;\n",
              "      cursor: pointer;\n",
              "      display: none;\n",
              "      fill: #1967D2;\n",
              "      height: 32px;\n",
              "      padding: 0 0 0 0;\n",
              "      width: 32px;\n",
              "    }\n",
              "\n",
              "    .colab-df-convert:hover {\n",
              "      background-color: #E2EBFA;\n",
              "      box-shadow: 0px 1px 2px rgba(60, 64, 67, 0.3), 0px 1px 3px 1px rgba(60, 64, 67, 0.15);\n",
              "      fill: #174EA6;\n",
              "    }\n",
              "\n",
              "    [theme=dark] .colab-df-convert {\n",
              "      background-color: #3B4455;\n",
              "      fill: #D2E3FC;\n",
              "    }\n",
              "\n",
              "    [theme=dark] .colab-df-convert:hover {\n",
              "      background-color: #434B5C;\n",
              "      box-shadow: 0px 1px 3px 1px rgba(0, 0, 0, 0.15);\n",
              "      filter: drop-shadow(0px 1px 2px rgba(0, 0, 0, 0.3));\n",
              "      fill: #FFFFFF;\n",
              "    }\n",
              "  </style>\n",
              "\n",
              "      <script>\n",
              "        const buttonEl =\n",
              "          document.querySelector('#df-7c3400ed-c8dd-46f0-9292-bf2c7d3ab78d button.colab-df-convert');\n",
              "        buttonEl.style.display =\n",
              "          google.colab.kernel.accessAllowed ? 'block' : 'none';\n",
              "\n",
              "        async function convertToInteractive(key) {\n",
              "          const element = document.querySelector('#df-7c3400ed-c8dd-46f0-9292-bf2c7d3ab78d');\n",
              "          const dataTable =\n",
              "            await google.colab.kernel.invokeFunction('convertToInteractive',\n",
              "                                                     [key], {});\n",
              "          if (!dataTable) return;\n",
              "\n",
              "          const docLinkHtml = 'Like what you see? Visit the ' +\n",
              "            '<a target=\"_blank\" href=https://colab.research.google.com/notebooks/data_table.ipynb>data table notebook</a>'\n",
              "            + ' to learn more about interactive tables.';\n",
              "          element.innerHTML = '';\n",
              "          dataTable['output_type'] = 'display_data';\n",
              "          await google.colab.output.renderOutput(dataTable, element);\n",
              "          const docLink = document.createElement('div');\n",
              "          docLink.innerHTML = docLinkHtml;\n",
              "          element.appendChild(docLink);\n",
              "        }\n",
              "      </script>\n",
              "    </div>\n",
              "  </div>\n",
              "  "
            ]
          },
          "metadata": {},
          "execution_count": 35
        }
      ]
    },
    {
      "cell_type": "markdown",
      "source": [
        "## Split the data into training, testing, and validation sets"
      ],
      "metadata": {
        "id": "VgcVjPgFYU_N"
      }
    },
    {
      "cell_type": "code",
      "source": [
        "import sklearn\n",
        "from sklearn.model_selection import train_test_split\n",
        "\n",
        "train_df, test_df = train_test_split(df, test_size=0.2, random_state=42)\n",
        "train_df, val_df = train_test_split(train_df, test_size=0.2, random_state=42)\n",
        "\n",
        "# split text and labels\n",
        "train_sentences = train_df['Text'].to_numpy()\n",
        "train_labels = train_df['Class'].to_numpy()\n",
        "\n",
        "val_sentences = val_df['Text'].to_numpy()\n",
        "val_labels = val_df['Class'].to_numpy()\n",
        "\n",
        "\n",
        "test_sentences = test_df['Text'].to_numpy()\n",
        "test_labels = test_df['Class'].to_numpy()\n",
        "\n",
        "df.head()"
      ],
      "metadata": {
        "colab": {
          "base_uri": "https://localhost:8080/",
          "height": 206
        },
        "id": "lzI6p_AzTjyN",
        "outputId": "e1cbe078-18e0-461d-99ad-e0f6709ea87c"
      },
      "execution_count": 20,
      "outputs": [
        {
          "output_type": "execute_result",
          "data": {
            "text/plain": [
              "                                                Text  Class       ID\n",
              "0  fun little place stop lunch plenty parking tab...      1  1307144\n",
              "1  place packed went late night food serve late a...      2  5544361\n",
              "2  board plane 30 minute actual flight make sure ...      1  5956200\n",
              "3  chaotic 4 story place fun kid white chocolate ...      1   718388\n",
              "4  intentionally capsizing sailboat ttl spent goo...      0   174754"
            ],
            "text/html": [
              "\n",
              "  <div id=\"df-a2633246-57e0-4242-9845-0d2d3f703eb7\">\n",
              "    <div class=\"colab-df-container\">\n",
              "      <div>\n",
              "<style scoped>\n",
              "    .dataframe tbody tr th:only-of-type {\n",
              "        vertical-align: middle;\n",
              "    }\n",
              "\n",
              "    .dataframe tbody tr th {\n",
              "        vertical-align: top;\n",
              "    }\n",
              "\n",
              "    .dataframe thead th {\n",
              "        text-align: right;\n",
              "    }\n",
              "</style>\n",
              "<table border=\"1\" class=\"dataframe\">\n",
              "  <thead>\n",
              "    <tr style=\"text-align: right;\">\n",
              "      <th></th>\n",
              "      <th>Text</th>\n",
              "      <th>Class</th>\n",
              "      <th>ID</th>\n",
              "    </tr>\n",
              "  </thead>\n",
              "  <tbody>\n",
              "    <tr>\n",
              "      <th>0</th>\n",
              "      <td>fun little place stop lunch plenty parking tab...</td>\n",
              "      <td>1</td>\n",
              "      <td>1307144</td>\n",
              "    </tr>\n",
              "    <tr>\n",
              "      <th>1</th>\n",
              "      <td>place packed went late night food serve late a...</td>\n",
              "      <td>2</td>\n",
              "      <td>5544361</td>\n",
              "    </tr>\n",
              "    <tr>\n",
              "      <th>2</th>\n",
              "      <td>board plane 30 minute actual flight make sure ...</td>\n",
              "      <td>1</td>\n",
              "      <td>5956200</td>\n",
              "    </tr>\n",
              "    <tr>\n",
              "      <th>3</th>\n",
              "      <td>chaotic 4 story place fun kid white chocolate ...</td>\n",
              "      <td>1</td>\n",
              "      <td>718388</td>\n",
              "    </tr>\n",
              "    <tr>\n",
              "      <th>4</th>\n",
              "      <td>intentionally capsizing sailboat ttl spent goo...</td>\n",
              "      <td>0</td>\n",
              "      <td>174754</td>\n",
              "    </tr>\n",
              "  </tbody>\n",
              "</table>\n",
              "</div>\n",
              "      <button class=\"colab-df-convert\" onclick=\"convertToInteractive('df-a2633246-57e0-4242-9845-0d2d3f703eb7')\"\n",
              "              title=\"Convert this dataframe to an interactive table.\"\n",
              "              style=\"display:none;\">\n",
              "        \n",
              "  <svg xmlns=\"http://www.w3.org/2000/svg\" height=\"24px\"viewBox=\"0 0 24 24\"\n",
              "       width=\"24px\">\n",
              "    <path d=\"M0 0h24v24H0V0z\" fill=\"none\"/>\n",
              "    <path d=\"M18.56 5.44l.94 2.06.94-2.06 2.06-.94-2.06-.94-.94-2.06-.94 2.06-2.06.94zm-11 1L8.5 8.5l.94-2.06 2.06-.94-2.06-.94L8.5 2.5l-.94 2.06-2.06.94zm10 10l.94 2.06.94-2.06 2.06-.94-2.06-.94-.94-2.06-.94 2.06-2.06.94z\"/><path d=\"M17.41 7.96l-1.37-1.37c-.4-.4-.92-.59-1.43-.59-.52 0-1.04.2-1.43.59L10.3 9.45l-7.72 7.72c-.78.78-.78 2.05 0 2.83L4 21.41c.39.39.9.59 1.41.59.51 0 1.02-.2 1.41-.59l7.78-7.78 2.81-2.81c.8-.78.8-2.07 0-2.86zM5.41 20L4 18.59l7.72-7.72 1.47 1.35L5.41 20z\"/>\n",
              "  </svg>\n",
              "      </button>\n",
              "      \n",
              "  <style>\n",
              "    .colab-df-container {\n",
              "      display:flex;\n",
              "      flex-wrap:wrap;\n",
              "      gap: 12px;\n",
              "    }\n",
              "\n",
              "    .colab-df-convert {\n",
              "      background-color: #E8F0FE;\n",
              "      border: none;\n",
              "      border-radius: 50%;\n",
              "      cursor: pointer;\n",
              "      display: none;\n",
              "      fill: #1967D2;\n",
              "      height: 32px;\n",
              "      padding: 0 0 0 0;\n",
              "      width: 32px;\n",
              "    }\n",
              "\n",
              "    .colab-df-convert:hover {\n",
              "      background-color: #E2EBFA;\n",
              "      box-shadow: 0px 1px 2px rgba(60, 64, 67, 0.3), 0px 1px 3px 1px rgba(60, 64, 67, 0.15);\n",
              "      fill: #174EA6;\n",
              "    }\n",
              "\n",
              "    [theme=dark] .colab-df-convert {\n",
              "      background-color: #3B4455;\n",
              "      fill: #D2E3FC;\n",
              "    }\n",
              "\n",
              "    [theme=dark] .colab-df-convert:hover {\n",
              "      background-color: #434B5C;\n",
              "      box-shadow: 0px 1px 3px 1px rgba(0, 0, 0, 0.15);\n",
              "      filter: drop-shadow(0px 1px 2px rgba(0, 0, 0, 0.3));\n",
              "      fill: #FFFFFF;\n",
              "    }\n",
              "  </style>\n",
              "\n",
              "      <script>\n",
              "        const buttonEl =\n",
              "          document.querySelector('#df-a2633246-57e0-4242-9845-0d2d3f703eb7 button.colab-df-convert');\n",
              "        buttonEl.style.display =\n",
              "          google.colab.kernel.accessAllowed ? 'block' : 'none';\n",
              "\n",
              "        async function convertToInteractive(key) {\n",
              "          const element = document.querySelector('#df-a2633246-57e0-4242-9845-0d2d3f703eb7');\n",
              "          const dataTable =\n",
              "            await google.colab.kernel.invokeFunction('convertToInteractive',\n",
              "                                                     [key], {});\n",
              "          if (!dataTable) return;\n",
              "\n",
              "          const docLinkHtml = 'Like what you see? Visit the ' +\n",
              "            '<a target=\"_blank\" href=https://colab.research.google.com/notebooks/data_table.ipynb>data table notebook</a>'\n",
              "            + ' to learn more about interactive tables.';\n",
              "          element.innerHTML = '';\n",
              "          dataTable['output_type'] = 'display_data';\n",
              "          await google.colab.output.renderOutput(dataTable, element);\n",
              "          const docLink = document.createElement('div');\n",
              "          docLink.innerHTML = docLinkHtml;\n",
              "          element.appendChild(docLink);\n",
              "        }\n",
              "      </script>\n",
              "    </div>\n",
              "  </div>\n",
              "  "
            ]
          },
          "metadata": {},
          "execution_count": 20
        }
      ]
    },
    {
      "cell_type": "code",
      "execution_count": 36,
      "metadata": {
        "colab": {
          "base_uri": "https://localhost:8080/"
        },
        "id": "y8qCnve_-lkO",
        "outputId": "50f9dc75-babf-4cb9-dbcd-d1db6d0d91ff"
      },
      "outputs": [
        {
          "output_type": "stream",
          "name": "stdout",
          "text": [
            "Training entries: 35840, test entries: 8960\n"
          ]
        }
      ],
      "source": [
        "print(\"Training entries: {}, test entries: {}\".format(len(train_sentences), len(val_sentences)))"
      ]
    },
    {
      "cell_type": "code",
      "execution_count": 22,
      "metadata": {
        "colab": {
          "base_uri": "https://localhost:8080/"
        },
        "id": "QtTS4kpEpjbi",
        "outputId": "fef58649-ff15-4d46-fb74-004f4972a01b"
      },
      "outputs": [
        {
          "output_type": "execute_result",
          "data": {
            "text/plain": [
              "array(['mike miller dj vow renewal mix age mike 17 year old dancing midnight music mike early helpful number technical aspect reception highly professional personable quite affordable',\n",
              "       'usually pho fix home cause compare mama cooking eat pho restaurant say favorite place goto pho binh minh located 17th ave se avenue pho restaurant basically unlike lot place place us fresh pho noodle make remarkable difference taste broth right thinly sliced beef taste delicious forget dish available definitely try bun cha gio thit nuong vermecelli w beef spring roll rice dish taste great',\n",
              "       'want wait line brunch eat long time suggest place far place truly nice hidden gem container park level recommend using street level access corner brunch mimosa breakfast skillet customize',\n",
              "       'best new york style chinese food restaurant outside nyc chicken broccoli spot brown sauce flavor broccoli cooked slight crunchy perfection thought mention downtown dont pas restaurant disappointhave add fast friendly courteous service make house new favorite spot',\n",
              "       'schenley oval considered center sport recreation oakland squirrel hill feature 1 kmlong oval 400m track couple soccer field tennis court free weekday evening weekend expect people enjoying oval jogging playing soccer frisbee tennis oval water fountain surprisingly keep running winter restroom small brick building usually portable restroom nearby schenley drive go near oval providing ample space free parking friendly safe area careful leaving item book stolen left minute sunday night',\n",
              "       'great authentic pakistani pashtun cuisine lot yummy dish mutton biryani delicious chicken tikka naan bread fluffy fresh',\n",
              "       'great food price reasonable order hong kong style noodle chicken great stuff fried rice awesome',\n",
              "       'enat yelp got takeout great fantastic service great food',\n",
              "       'im coming let start problem parking located near pet grooming place know pressed window looking puppy came area server kirk kind offered suggestion menu worked beautifully burger burger ok ive lot veggie type burger time believe place best one ate california chili cheese fry amazing fry little worried vegan cheese im noob field anymore standard set vegan cheese lol overall experience great thing make sad place price like eat spend 50 meal people place solid',\n",
              "       'recently went gusto 101 dinner wrote quick review photo price httpsimplelifegourmet blogspot com201202gusto101 html'],\n",
              "      dtype=object)"
            ]
          },
          "metadata": {},
          "execution_count": 22
        }
      ],
      "source": [
        "train_sentences[:10]"
      ]
    },
    {
      "cell_type": "code",
      "execution_count": 23,
      "metadata": {
        "colab": {
          "base_uri": "https://localhost:8080/"
        },
        "id": "tvAjVXOWc6Mj",
        "outputId": "bc774144-4463-465b-a553-008c477ddb6b"
      },
      "outputs": [
        {
          "output_type": "execute_result",
          "data": {
            "text/plain": [
              "array([1, 1, 1, 1, 1, 1, 1, 1, 1, 1])"
            ]
          },
          "metadata": {},
          "execution_count": 23
        }
      ],
      "source": [
        "train_labels[:10]"
      ]
    },
    {
      "cell_type": "markdown",
      "source": [
        "## Make word embedding layer of NN"
      ],
      "metadata": {
        "id": "VQD9Y0BZYp1j"
      }
    },
    {
      "cell_type": "code",
      "execution_count": 25,
      "metadata": {
        "colab": {
          "base_uri": "https://localhost:8080/"
        },
        "id": "_NUbzVeYkgcO",
        "outputId": "ff8384eb-55d7-499b-a5a3-04e0c592a833"
      },
      "outputs": [
        {
          "output_type": "execute_result",
          "data": {
            "text/plain": [
              "<tf.Tensor: shape=(3, 50), dtype=float32, numpy=\n",
              "array([[ 0.1384184 , -0.22871655, -0.34741542, -0.22721   , -0.30846748,\n",
              "         0.00562858,  0.30742484, -0.24686453, -0.49522042,  0.2837874 ,\n",
              "         0.11697393, -0.2378197 ,  0.31858838,  0.06282561,  0.06655555,\n",
              "        -0.37064585, -0.15341   ,  0.05426222,  0.12385743, -0.271793  ,\n",
              "        -0.20761234,  0.13651681, -0.2711912 ,  0.05846886, -0.13601542,\n",
              "        -0.1357587 ,  0.14033708, -0.30586493,  0.37945795,  0.3067474 ,\n",
              "        -0.00231218,  0.02300742,  0.18738551,  0.01606855,  0.16681473,\n",
              "        -0.09897768,  0.2859028 ,  0.40903994, -0.01140193, -0.45000407,\n",
              "         0.35537094,  0.38749295, -0.02733273, -0.03646052,  0.16973256,\n",
              "         0.09952641, -0.08293172, -0.2325519 ,  0.7476069 ,  0.26440188],\n",
              "       [ 0.54997563, -0.7822773 , -0.5996176 , -0.48389697, -0.23877111,\n",
              "        -0.3377327 ,  0.40178594,  0.18064022, -0.79556066,  0.20132482,\n",
              "         0.66166025, -0.40445918,  0.33204678,  0.06189556, -0.2704824 ,\n",
              "         0.07656047,  0.4816419 ,  0.6126962 , -0.35742787, -0.3756299 ,\n",
              "        -0.31762698, -0.59240294, -0.09913903,  0.09129923, -0.9010344 ,\n",
              "         0.12430194, -0.1054248 , -0.0449093 , -0.07475092,  0.33164185,\n",
              "         0.1695348 ,  0.60825443,  0.6332849 , -0.3725267 ,  0.00799195,\n",
              "         0.07605263, -0.46507472,  0.5016923 ,  0.08651321, -0.65054834,\n",
              "         0.23630682,  0.5349838 , -0.01605094, -0.38992876, -0.09705692,\n",
              "         1.1177356 , -0.12767479, -0.03196578,  0.878895  ,  0.5013869 ],\n",
              "       [ 0.14979605, -0.2143807 , -0.11101854, -0.0935877 , -0.3944628 ,\n",
              "        -0.16866091,  0.48871118, -0.01367641, -0.57730913,  0.27190447,\n",
              "         0.37500113, -0.13355392,  0.24702504,  0.03498559, -0.25341004,\n",
              "        -0.12060038,  0.04916887,  0.22495256,  0.20472392, -0.38510835,\n",
              "        -0.22520427,  0.02821617, -0.19009559,  0.30091295, -0.34477642,\n",
              "         0.43188924,  0.08325134, -0.10931747,  0.04115171,  0.13237487,\n",
              "         0.27418903, -0.07647405,  0.10935789, -0.42715445,  0.0132186 ,\n",
              "        -0.4077871 , -0.07544222,  0.25778654,  0.336087  , -0.27064258,\n",
              "         0.11628856,  0.54878813, -0.02944703,  0.26040375, -0.02342529,\n",
              "         0.59332496, -0.00713185,  0.05916126,  0.6449174 ,  0.52463037]],\n",
              "      dtype=float32)>"
            ]
          },
          "metadata": {},
          "execution_count": 25
        }
      ],
      "source": [
        "model = \"https://tfhub.dev/google/nnlm-en-dim50-with-normalization/2\"\n",
        "hub_layer = hub.KerasLayer(model, input_shape=[], dtype=tf.string, trainable=True)\n",
        "hub_layer(train_sentences[:3])"
      ]
    },
    {
      "cell_type": "markdown",
      "metadata": {
        "id": "dfSbV6igl1EH"
      },
      "source": [
        "## Build model"
      ]
    },
    {
      "cell_type": "code",
      "execution_count": 37,
      "metadata": {
        "colab": {
          "base_uri": "https://localhost:8080/"
        },
        "id": "xpKOoWgu-llD",
        "outputId": "cfa293eb-e814-46ad-e053-cb9678a6b848"
      },
      "outputs": [
        {
          "output_type": "stream",
          "name": "stdout",
          "text": [
            "Model: \"sequential_1\"\n",
            "_________________________________________________________________\n",
            " Layer (type)                Output Shape              Param #   \n",
            "=================================================================\n",
            " keras_layer_1 (KerasLayer)  (None, 50)                48190600  \n",
            "                                                                 \n",
            " dense_3 (Dense)             (None, 16)                816       \n",
            "                                                                 \n",
            " dropout_1 (Dropout)         (None, 16)                0         \n",
            "                                                                 \n",
            " dense_4 (Dense)             (None, 8)                 136       \n",
            "                                                                 \n",
            " dense_5 (Dense)             (None, 3)                 27        \n",
            "                                                                 \n",
            "=================================================================\n",
            "Total params: 48,191,579\n",
            "Trainable params: 48,191,579\n",
            "Non-trainable params: 0\n",
            "_________________________________________________________________\n"
          ]
        }
      ],
      "source": [
        "model = tf.keras.Sequential()\n",
        "model.add(hub_layer)\n",
        "model.add(tf.keras.layers.Dense(16, activation='relu'))\n",
        "model.add(tf.keras.layers.Dropout(0.3))\n",
        "model.add(tf.keras.layers.Dense(8, activation='relu'))\n",
        "# model.add(tf.keras.layers.Dropout(0.2))\n",
        "model.add(tf.keras.layers.Dense(3, activation='softmax'))\n",
        "\n",
        "model.summary()"
      ]
    },
    {
      "cell_type": "code",
      "execution_count": 38,
      "metadata": {
        "id": "Mr0GP-cQ-llN"
      },
      "outputs": [],
      "source": [
        "model.compile(optimizer='adam',\n",
        "              loss=tf.losses.SparseCategoricalCrossentropy(from_logits=False),\n",
        "              metrics=[tf.metrics.SparseCategoricalAccuracy(name='accuracy')])"
      ]
    },
    {
      "cell_type": "code",
      "execution_count": 39,
      "metadata": {
        "id": "-NpcXY9--llS"
      },
      "outputs": [],
      "source": [
        "from keras.callbacks import EarlyStopping\n",
        "\n",
        "es = EarlyStopping(monitor='val_loss', mode='min', verbose=1, patience=50)\n",
        "checkpoint_filepath = '/tmp/checkpoint'\n",
        "model_checkpoint_callback = tf.keras.callbacks.ModelCheckpoint(\n",
        "    filepath=checkpoint_filepath,\n",
        "    save_weights_only=True,\n",
        "    monitor='val_accuracy',\n",
        "    mode='max',\n",
        "    save_best_only=True)"
      ]
    },
    {
      "cell_type": "markdown",
      "metadata": {
        "id": "35jv_fzP-llU"
      },
      "source": [
        "## Train the model"
      ]
    },
    {
      "cell_type": "code",
      "execution_count": 30,
      "metadata": {
        "colab": {
          "base_uri": "https://localhost:8080/"
        },
        "id": "tXSGrjWZ-llW",
        "outputId": "78eb22cb-f9d9-4174-b473-f1d7e7360d62"
      },
      "outputs": [
        {
          "output_type": "stream",
          "name": "stdout",
          "text": [
            "Epoch 1/1000\n",
            "70/70 [==============================] - 7s 69ms/step - loss: 0.9271 - accuracy: 0.5629 - val_loss: 0.7419 - val_accuracy: 0.6904\n",
            "Epoch 2/1000\n",
            "70/70 [==============================] - 5s 66ms/step - loss: 0.6333 - accuracy: 0.7609 - val_loss: 0.5048 - val_accuracy: 0.8273\n",
            "Epoch 3/1000\n",
            "70/70 [==============================] - 5s 66ms/step - loss: 0.4529 - accuracy: 0.8349 - val_loss: 0.4089 - val_accuracy: 0.8451\n",
            "Epoch 4/1000\n",
            "70/70 [==============================] - 5s 66ms/step - loss: 0.3686 - accuracy: 0.8618 - val_loss: 0.3905 - val_accuracy: 0.8484\n",
            "Epoch 5/1000\n",
            "70/70 [==============================] - 2s 33ms/step - loss: 0.3194 - accuracy: 0.8791 - val_loss: 0.3928 - val_accuracy: 0.8482\n",
            "Epoch 6/1000\n",
            "70/70 [==============================] - 2s 33ms/step - loss: 0.2862 - accuracy: 0.8937 - val_loss: 0.4045 - val_accuracy: 0.8463\n",
            "Epoch 7/1000\n",
            "70/70 [==============================] - 2s 34ms/step - loss: 0.2529 - accuracy: 0.9063 - val_loss: 0.4262 - val_accuracy: 0.8483\n",
            "Epoch 8/1000\n",
            "70/70 [==============================] - 2s 33ms/step - loss: 0.2257 - accuracy: 0.9181 - val_loss: 0.4477 - val_accuracy: 0.8433\n",
            "Epoch 9/1000\n",
            "70/70 [==============================] - 2s 33ms/step - loss: 0.1996 - accuracy: 0.9277 - val_loss: 0.4834 - val_accuracy: 0.8426\n",
            "Epoch 10/1000\n",
            "70/70 [==============================] - 2s 33ms/step - loss: 0.1779 - accuracy: 0.9377 - val_loss: 0.5289 - val_accuracy: 0.8408\n",
            "Epoch 11/1000\n",
            "70/70 [==============================] - 3s 39ms/step - loss: 0.1571 - accuracy: 0.9462 - val_loss: 0.5574 - val_accuracy: 0.8334\n",
            "Epoch 12/1000\n",
            "70/70 [==============================] - 3s 37ms/step - loss: 0.1372 - accuracy: 0.9531 - val_loss: 0.6145 - val_accuracy: 0.8345\n",
            "Epoch 13/1000\n",
            "70/70 [==============================] - 2s 33ms/step - loss: 0.1229 - accuracy: 0.9594 - val_loss: 0.6700 - val_accuracy: 0.8306\n",
            "Epoch 14/1000\n",
            "70/70 [==============================] - 2s 33ms/step - loss: 0.1083 - accuracy: 0.9653 - val_loss: 0.7136 - val_accuracy: 0.8260\n",
            "Epoch 15/1000\n",
            "70/70 [==============================] - 2s 33ms/step - loss: 0.0961 - accuracy: 0.9684 - val_loss: 0.7718 - val_accuracy: 0.8253\n",
            "Epoch 16/1000\n",
            "70/70 [==============================] - 2s 33ms/step - loss: 0.0871 - accuracy: 0.9727 - val_loss: 0.8078 - val_accuracy: 0.8211\n",
            "Epoch 17/1000\n",
            "70/70 [==============================] - 2s 33ms/step - loss: 0.0796 - accuracy: 0.9742 - val_loss: 0.8748 - val_accuracy: 0.8214\n",
            "Epoch 18/1000\n",
            "70/70 [==============================] - 2s 33ms/step - loss: 0.0717 - accuracy: 0.9771 - val_loss: 0.9220 - val_accuracy: 0.8192\n",
            "Epoch 19/1000\n",
            "70/70 [==============================] - 3s 37ms/step - loss: 0.0634 - accuracy: 0.9796 - val_loss: 0.9790 - val_accuracy: 0.8163\n",
            "Epoch 20/1000\n",
            "70/70 [==============================] - 2s 33ms/step - loss: 0.0590 - accuracy: 0.9816 - val_loss: 1.0449 - val_accuracy: 0.8157\n",
            "Epoch 21/1000\n",
            "70/70 [==============================] - 2s 33ms/step - loss: 0.0551 - accuracy: 0.9830 - val_loss: 1.0989 - val_accuracy: 0.8122\n",
            "Epoch 22/1000\n",
            "70/70 [==============================] - 2s 33ms/step - loss: 0.0494 - accuracy: 0.9845 - val_loss: 1.1607 - val_accuracy: 0.8106\n",
            "Epoch 23/1000\n",
            "70/70 [==============================] - 2s 33ms/step - loss: 0.0452 - accuracy: 0.9863 - val_loss: 1.2111 - val_accuracy: 0.8108\n",
            "Epoch 24/1000\n",
            "70/70 [==============================] - 2s 33ms/step - loss: 0.0410 - accuracy: 0.9872 - val_loss: 1.2644 - val_accuracy: 0.8095\n",
            "Epoch 25/1000\n",
            "70/70 [==============================] - 2s 33ms/step - loss: 0.0392 - accuracy: 0.9875 - val_loss: 1.3388 - val_accuracy: 0.8128\n",
            "Epoch 26/1000\n",
            "70/70 [==============================] - 2s 33ms/step - loss: 0.0353 - accuracy: 0.9884 - val_loss: 1.3873 - val_accuracy: 0.8076\n",
            "Epoch 27/1000\n",
            "70/70 [==============================] - 2s 33ms/step - loss: 0.0355 - accuracy: 0.9887 - val_loss: 1.4226 - val_accuracy: 0.8068\n",
            "Epoch 28/1000\n",
            "70/70 [==============================] - 2s 34ms/step - loss: 0.0317 - accuracy: 0.9898 - val_loss: 1.4908 - val_accuracy: 0.8086\n",
            "Epoch 29/1000\n",
            "70/70 [==============================] - 2s 33ms/step - loss: 0.0295 - accuracy: 0.9915 - val_loss: 1.5505 - val_accuracy: 0.8075\n",
            "Epoch 30/1000\n",
            "70/70 [==============================] - 2s 34ms/step - loss: 0.0272 - accuracy: 0.9911 - val_loss: 1.5886 - val_accuracy: 0.7992\n",
            "Epoch 31/1000\n",
            "70/70 [==============================] - 2s 34ms/step - loss: 0.0265 - accuracy: 0.9912 - val_loss: 1.6567 - val_accuracy: 0.7987\n",
            "Epoch 32/1000\n",
            "70/70 [==============================] - 2s 34ms/step - loss: 0.0241 - accuracy: 0.9927 - val_loss: 1.6885 - val_accuracy: 0.8035\n",
            "Epoch 33/1000\n",
            "70/70 [==============================] - 2s 34ms/step - loss: 0.0234 - accuracy: 0.9925 - val_loss: 1.7366 - val_accuracy: 0.8002\n",
            "Epoch 34/1000\n",
            "70/70 [==============================] - 2s 34ms/step - loss: 0.0229 - accuracy: 0.9920 - val_loss: 1.7720 - val_accuracy: 0.7991\n",
            "Epoch 35/1000\n",
            "70/70 [==============================] - 2s 34ms/step - loss: 0.0225 - accuracy: 0.9927 - val_loss: 1.8412 - val_accuracy: 0.8028\n",
            "Epoch 36/1000\n",
            "70/70 [==============================] - 2s 34ms/step - loss: 0.0214 - accuracy: 0.9930 - val_loss: 1.8406 - val_accuracy: 0.8020\n",
            "Epoch 37/1000\n",
            "70/70 [==============================] - 2s 33ms/step - loss: 0.0216 - accuracy: 0.9933 - val_loss: 1.9032 - val_accuracy: 0.8002\n",
            "Epoch 38/1000\n",
            "70/70 [==============================] - 2s 34ms/step - loss: 0.0198 - accuracy: 0.9936 - val_loss: 1.9626 - val_accuracy: 0.7965\n",
            "Epoch 39/1000\n",
            "70/70 [==============================] - 2s 34ms/step - loss: 0.0201 - accuracy: 0.9933 - val_loss: 2.0145 - val_accuracy: 0.8009\n",
            "Epoch 40/1000\n",
            "70/70 [==============================] - 2s 34ms/step - loss: 0.0195 - accuracy: 0.9936 - val_loss: 2.0455 - val_accuracy: 0.7991\n",
            "Epoch 41/1000\n",
            "70/70 [==============================] - 2s 34ms/step - loss: 0.0178 - accuracy: 0.9940 - val_loss: 2.0980 - val_accuracy: 0.7983\n",
            "Epoch 42/1000\n",
            "70/70 [==============================] - 2s 34ms/step - loss: 0.0161 - accuracy: 0.9947 - val_loss: 2.1263 - val_accuracy: 0.7973\n",
            "Epoch 43/1000\n",
            "70/70 [==============================] - 2s 34ms/step - loss: 0.0156 - accuracy: 0.9948 - val_loss: 2.1838 - val_accuracy: 0.7969\n",
            "Epoch 44/1000\n",
            "70/70 [==============================] - 2s 34ms/step - loss: 0.0163 - accuracy: 0.9944 - val_loss: 2.2048 - val_accuracy: 0.7959\n",
            "Epoch 45/1000\n",
            "70/70 [==============================] - 2s 35ms/step - loss: 0.0161 - accuracy: 0.9948 - val_loss: 2.2401 - val_accuracy: 0.7977\n",
            "Epoch 46/1000\n",
            "70/70 [==============================] - 2s 35ms/step - loss: 0.0167 - accuracy: 0.9944 - val_loss: 2.2615 - val_accuracy: 0.7999\n",
            "Epoch 47/1000\n",
            "70/70 [==============================] - 2s 35ms/step - loss: 0.0175 - accuracy: 0.9939 - val_loss: 2.2554 - val_accuracy: 0.7949\n",
            "Epoch 48/1000\n",
            "70/70 [==============================] - 2s 35ms/step - loss: 0.0160 - accuracy: 0.9948 - val_loss: 2.3759 - val_accuracy: 0.7958\n",
            "Epoch 49/1000\n",
            "70/70 [==============================] - 2s 34ms/step - loss: 0.0148 - accuracy: 0.9951 - val_loss: 2.3694 - val_accuracy: 0.7990\n",
            "Epoch 50/1000\n",
            "70/70 [==============================] - 2s 35ms/step - loss: 0.0138 - accuracy: 0.9956 - val_loss: 2.4350 - val_accuracy: 0.7965\n",
            "Epoch 51/1000\n",
            "70/70 [==============================] - 2s 35ms/step - loss: 0.0133 - accuracy: 0.9957 - val_loss: 2.4510 - val_accuracy: 0.7968\n",
            "Epoch 52/1000\n",
            "70/70 [==============================] - 2s 34ms/step - loss: 0.0134 - accuracy: 0.9955 - val_loss: 2.5075 - val_accuracy: 0.7972\n",
            "Epoch 53/1000\n",
            "70/70 [==============================] - 2s 34ms/step - loss: 0.0139 - accuracy: 0.9952 - val_loss: 2.5623 - val_accuracy: 0.7988\n",
            "Epoch 54/1000\n",
            "70/70 [==============================] - 2s 34ms/step - loss: 0.0118 - accuracy: 0.9960 - val_loss: 2.6292 - val_accuracy: 0.7997\n",
            "Epoch 54: early stopping\n"
          ]
        }
      ],
      "source": [
        "history = model.fit(train_sentences,\n",
        "                    train_labels,\n",
        "                    epochs=1000,\n",
        "                    batch_size=512,\n",
        "                    validation_data=(val_sentences, val_labels),\n",
        "                    verbose=1,\n",
        "                    callbacks=[es, model_checkpoint_callback])"
      ]
    },
    {
      "cell_type": "markdown",
      "metadata": {
        "id": "9EEGuDVuzb5r"
      },
      "source": [
        "## Evaluate the model\n"
      ]
    },
    {
      "cell_type": "code",
      "execution_count": null,
      "metadata": {
        "colab": {
          "base_uri": "https://localhost:8080/"
        },
        "id": "zOMKywn4zReN",
        "outputId": "70fb0161-9516-46cb-82d1-ce393a26f6c9"
      },
      "outputs": [
        {
          "name": "stdout",
          "output_type": "stream",
          "text": [
            "350/350 [==============================] - 2s 5ms/step - loss: 0.3665 - accuracy: 0.8652\n",
            "[0.36653944849967957, 0.8651785850524902]\n"
          ]
        }
      ],
      "source": [
        "# The model weights (that are considered the best) are loaded into the\n",
        "# model.\n",
        "model.load_weights(checkpoint_filepath)\n",
        "\n",
        "results = model.evaluate(test_sentences, test_labels)\n",
        "\n",
        "print(results)"
      ]
    },
    {
      "cell_type": "markdown",
      "source": [
        "## Save the model"
      ],
      "metadata": {
        "id": "h6S4imT-ZPAH"
      }
    },
    {
      "cell_type": "code",
      "execution_count": null,
      "metadata": {
        "id": "B7tPp3AfyNUb"
      },
      "outputs": [],
      "source": [
        "model.save(\"/content/gdrive/MyDrive/my_model\")"
      ]
    },
    {
      "cell_type": "markdown",
      "metadata": {
        "id": "5KggXVeL-llZ"
      },
      "source": [
        "## Plot training and validation accuracy and loss over time\n",
        "\n"
      ]
    },
    {
      "cell_type": "code",
      "execution_count": null,
      "metadata": {
        "colab": {
          "base_uri": "https://localhost:8080/"
        },
        "id": "VcvSXvhp-llb",
        "outputId": "32a8cda7-ec6f-4ad9-e6a6-2d29f9af7cce"
      },
      "outputs": [
        {
          "data": {
            "text/plain": [
              "dict_keys(['loss', 'accuracy', 'val_loss', 'val_accuracy'])"
            ]
          },
          "execution_count": 15,
          "metadata": {},
          "output_type": "execute_result"
        }
      ],
      "source": [
        "history_dict = history.history\n",
        "history_dict.keys()"
      ]
    },
    {
      "cell_type": "code",
      "execution_count": null,
      "metadata": {
        "colab": {
          "base_uri": "https://localhost:8080/",
          "height": 295
        },
        "id": "nGoYf2Js-lle",
        "outputId": "d25c886b-5826-47a6-c1a3-2b2bbcbda13c"
      },
      "outputs": [
        {
          "data": {
            "image/png": "[encoded data removed]",
            "text/plain": [
              "<Figure size 432x288 with 1 Axes>"
            ]
          },
          "metadata": {},
          "output_type": "display_data"
        }
      ],
      "source": [
        "acc = history_dict['accuracy']\n",
        "val_acc = history_dict['val_accuracy']\n",
        "loss = history_dict['loss']\n",
        "val_loss = history_dict['val_loss']\n",
        "\n",
        "epochs = range(1, len(acc) + 1)\n",
        "\n",
        "# \"bo\" is for \"blue dot\"\n",
        "plt.plot(epochs, loss, 'bo', label='Training loss')\n",
        "# b is for \"solid blue line\"\n",
        "plt.plot(epochs, val_loss, 'b', label='Validation loss')\n",
        "plt.title('Training and validation loss')\n",
        "plt.xlabel('Epochs')\n",
        "plt.ylabel('Loss')\n",
        "plt.legend()\n",
        "\n",
        "plt.show()"
      ]
    },
    {
      "cell_type": "code",
      "execution_count": null,
      "metadata": {
        "colab": {
          "base_uri": "https://localhost:8080/",
          "height": 295
        },
        "id": "6hXx-xOv-llh",
        "outputId": "632b47a7-6587-4d0e-9e96-25e50577033d"
      },
      "outputs": [
        {
          "data": {
            "image/png": "[encoded data removed]",
            "text/plain": [
              "<Figure size 432x288 with 1 Axes>"
            ]
          },
          "metadata": {},
          "output_type": "display_data"
        }
      ],
      "source": [
        "plt.clf()   # clear figure\n",
        "\n",
        "plt.plot(epochs, acc, 'bo', label='Training acc')\n",
        "plt.plot(epochs, val_acc, 'b', label='Validation acc')\n",
        "plt.title('Training and validation accuracy')\n",
        "plt.xlabel('Epochs')\n",
        "plt.ylabel('Accuracy')\n",
        "plt.legend()\n",
        "\n",
        "plt.show()"
      ]
    },
    {
      "cell_type": "markdown",
      "metadata": {
        "id": "EtnEIqQ_U7-i"
      },
      "source": [
        "## Predict"
      ]
    },
    {
      "cell_type": "code",
      "execution_count": null,
      "metadata": {
        "colab": {
          "base_uri": "https://localhost:8080/",
          "height": 424
        },
        "id": "_xBB8QZ3U9L4",
        "outputId": "ae92c472-1d7b-44a8-9dd3-86ce6ec7c842"
      },
      "outputs": [
        {
          "data": {
            "text/html": [
              "\n",
              "  <div id=\"df-274e5eb3-9d69-4045-84dc-dc038ab032af\">\n",
              "    <div class=\"colab-df-container\">\n",
              "      <div>\n",
              "<style scoped>\n",
              "    .dataframe tbody tr th:only-of-type {\n",
              "        vertical-align: middle;\n",
              "    }\n",
              "\n",
              "    .dataframe tbody tr th {\n",
              "        vertical-align: top;\n",
              "    }\n",
              "\n",
              "    .dataframe thead th {\n",
              "        text-align: right;\n",
              "    }\n",
              "</style>\n",
              "<table border=\"1\" class=\"dataframe\">\n",
              "  <thead>\n",
              "    <tr style=\"text-align: right;\">\n",
              "      <th></th>\n",
              "      <th>ID</th>\n",
              "      <th>Text</th>\n",
              "    </tr>\n",
              "  </thead>\n",
              "  <tbody>\n",
              "    <tr>\n",
              "      <th>0</th>\n",
              "      <td>178</td>\n",
              "      <td>!:)I could pass out here and survive the zombi...</td>\n",
              "    </tr>\n",
              "    <tr>\n",
              "      <th>1</th>\n",
              "      <td>344</td>\n",
              "      <td>15% tips sneaked into our bill even though we ...</td>\n",
              "    </tr>\n",
              "    <tr>\n",
              "      <th>2</th>\n",
              "      <td>2324</td>\n",
              "      <td>How bad could it be? I thought  After all  its...</td>\n",
              "    </tr>\n",
              "    <tr>\n",
              "      <th>3</th>\n",
              "      <td>3217</td>\n",
              "      <td>Jordan is awesome! I have a lot of muscle tens...</td>\n",
              "    </tr>\n",
              "    <tr>\n",
              "      <th>4</th>\n",
              "      <td>3705</td>\n",
              "      <td>Micheals Arts and CraftsWell  they live under ...</td>\n",
              "    </tr>\n",
              "    <tr>\n",
              "      <th>...</th>\n",
              "      <td>...</td>\n",
              "      <td>...</td>\n",
              "    </tr>\n",
              "    <tr>\n",
              "      <th>13995</th>\n",
              "      <td>6662447</td>\n",
              "      <td>wifi doesnt work  Also  even it works  it is v...</td>\n",
              "    </tr>\n",
              "    <tr>\n",
              "      <th>13996</th>\n",
              "      <td>6662575</td>\n",
              "      <td>wish I could select zero stars   This place wa...</td>\n",
              "    </tr>\n",
              "    <tr>\n",
              "      <th>13997</th>\n",
              "      <td>6664830</td>\n",
              "      <td>ya know this place is so good  and so unassumi...</td>\n",
              "    </tr>\n",
              "    <tr>\n",
              "      <th>13998</th>\n",
              "      <td>6665591</td>\n",
              "      <td>you definitely dont want to bring a first date...</td>\n",
              "    </tr>\n",
              "    <tr>\n",
              "      <th>13999</th>\n",
              "      <td>6666002</td>\n",
              "      <td>yum the grilled pineapple is amazing  The pork...</td>\n",
              "    </tr>\n",
              "  </tbody>\n",
              "</table>\n",
              "<p>14000 rows × 2 columns</p>\n",
              "</div>\n",
              "      <button class=\"colab-df-convert\" onclick=\"convertToInteractive('df-274e5eb3-9d69-4045-84dc-dc038ab032af')\"\n",
              "              title=\"Convert this dataframe to an interactive table.\"\n",
              "              style=\"display:none;\">\n",
              "        \n",
              "  <svg xmlns=\"http://www.w3.org/2000/svg\" height=\"24px\"viewBox=\"0 0 24 24\"\n",
              "       width=\"24px\">\n",
              "    <path d=\"M0 0h24v24H0V0z\" fill=\"none\"/>\n",
              "    <path d=\"M18.56 5.44l.94 2.06.94-2.06 2.06-.94-2.06-.94-.94-2.06-.94 2.06-2.06.94zm-11 1L8.5 8.5l.94-2.06 2.06-.94-2.06-.94L8.5 2.5l-.94 2.06-2.06.94zm10 10l.94 2.06.94-2.06 2.06-.94-2.06-.94-.94-2.06-.94 2.06-2.06.94z\"/><path d=\"M17.41 7.96l-1.37-1.37c-.4-.4-.92-.59-1.43-.59-.52 0-1.04.2-1.43.59L10.3 9.45l-7.72 7.72c-.78.78-.78 2.05 0 2.83L4 21.41c.39.39.9.59 1.41.59.51 0 1.02-.2 1.41-.59l7.78-7.78 2.81-2.81c.8-.78.8-2.07 0-2.86zM5.41 20L4 18.59l7.72-7.72 1.47 1.35L5.41 20z\"/>\n",
              "  </svg>\n",
              "      </button>\n",
              "      \n",
              "  <style>\n",
              "    .colab-df-container {\n",
              "      display:flex;\n",
              "      flex-wrap:wrap;\n",
              "      gap: 12px;\n",
              "    }\n",
              "\n",
              "    .colab-df-convert {\n",
              "      background-color: #E8F0FE;\n",
              "      border: none;\n",
              "      border-radius: 50%;\n",
              "      cursor: pointer;\n",
              "      display: none;\n",
              "      fill: #1967D2;\n",
              "      height: 32px;\n",
              "      padding: 0 0 0 0;\n",
              "      width: 32px;\n",
              "    }\n",
              "\n",
              "    .colab-df-convert:hover {\n",
              "      background-color: #E2EBFA;\n",
              "      box-shadow: 0px 1px 2px rgba(60, 64, 67, 0.3), 0px 1px 3px 1px rgba(60, 64, 67, 0.15);\n",
              "      fill: #174EA6;\n",
              "    }\n",
              "\n",
              "    [theme=dark] .colab-df-convert {\n",
              "      background-color: #3B4455;\n",
              "      fill: #D2E3FC;\n",
              "    }\n",
              "\n",
              "    [theme=dark] .colab-df-convert:hover {\n",
              "      background-color: #434B5C;\n",
              "      box-shadow: 0px 1px 3px 1px rgba(0, 0, 0, 0.15);\n",
              "      filter: drop-shadow(0px 1px 2px rgba(0, 0, 0, 0.3));\n",
              "      fill: #FFFFFF;\n",
              "    }\n",
              "  </style>\n",
              "\n",
              "      <script>\n",
              "        const buttonEl =\n",
              "          document.querySelector('#df-274e5eb3-9d69-4045-84dc-dc038ab032af button.colab-df-convert');\n",
              "        buttonEl.style.display =\n",
              "          google.colab.kernel.accessAllowed ? 'block' : 'none';\n",
              "\n",
              "        async function convertToInteractive(key) {\n",
              "          const element = document.querySelector('#df-274e5eb3-9d69-4045-84dc-dc038ab032af');\n",
              "          const dataTable =\n",
              "            await google.colab.kernel.invokeFunction('convertToInteractive',\n",
              "                                                     [key], {});\n",
              "          if (!dataTable) return;\n",
              "\n",
              "          const docLinkHtml = 'Like what you see? Visit the ' +\n",
              "            '<a target=\"_blank\" href=https://colab.research.google.com/notebooks/data_table.ipynb>data table notebook</a>'\n",
              "            + ' to learn more about interactive tables.';\n",
              "          element.innerHTML = '';\n",
              "          dataTable['output_type'] = 'display_data';\n",
              "          await google.colab.output.renderOutput(dataTable, element);\n",
              "          const docLink = document.createElement('div');\n",
              "          docLink.innerHTML = docLinkHtml;\n",
              "          element.appendChild(docLink);\n",
              "        }\n",
              "      </script>\n",
              "    </div>\n",
              "  </div>\n",
              "  "
            ],
            "text/plain": [
              "            ID                                               Text\n",
              "0          178  !:)I could pass out here and survive the zombi...\n",
              "1          344  15% tips sneaked into our bill even though we ...\n",
              "2         2324  How bad could it be? I thought  After all  its...\n",
              "3         3217  Jordan is awesome! I have a lot of muscle tens...\n",
              "4         3705  Micheals Arts and CraftsWell  they live under ...\n",
              "...        ...                                                ...\n",
              "13995  6662447  wifi doesnt work  Also  even it works  it is v...\n",
              "13996  6662575  wish I could select zero stars   This place wa...\n",
              "13997  6664830  ya know this place is so good  and so unassumi...\n",
              "13998  6665591  you definitely dont want to bring a first date...\n",
              "13999  6666002  yum the grilled pineapple is amazing  The pork...\n",
              "\n",
              "[14000 rows x 2 columns]"
            ]
          },
          "execution_count": 18,
          "metadata": {},
          "output_type": "execute_result"
        }
      ],
      "source": [
        "predictions_df = pd.read_csv('/content/gdrive/MyDrive/test3.csv')\n",
        "predictions_df"
      ]
    },
    {
      "cell_type": "code",
      "execution_count": null,
      "metadata": {
        "colab": {
          "base_uri": "https://localhost:8080/"
        },
        "id": "wXKpw8QqVDRg",
        "outputId": "c175e490-adc1-4155-f5fd-1be1cb6bba8b"
      },
      "outputs": [
        {
          "name": "stdout",
          "output_type": "stream",
          "text": [
            "438/438 [==============================] - 2s 5ms/step\n",
            "14000\n"
          ]
        }
      ],
      "source": [
        "predict_sentences = predictions_df['Text'].to_numpy()\n",
        "predict_x = model.predict(predict_sentences) \n",
        "classes_x = np.argmax(predict_x,axis=1)\n",
        "print(len(classes_x))"
      ]
    },
    {
      "cell_type": "code",
      "execution_count": null,
      "metadata": {
        "colab": {
          "base_uri": "https://localhost:8080/"
        },
        "id": "uUBanM0LVL8w",
        "outputId": "b7973673-99bb-4280-e99b-35facf180952"
      },
      "outputs": [
        {
          "data": {
            "text/plain": [
              "{0: 864, 1: 10023, 2: 3113}"
            ]
          },
          "execution_count": 20,
          "metadata": {},
          "output_type": "execute_result"
        }
      ],
      "source": [
        "unique, counts = np.unique(classes_x, return_counts=True)\n",
        "dict(zip(unique, counts))"
      ]
    },
    {
      "cell_type": "code",
      "execution_count": null,
      "metadata": {
        "colab": {
          "base_uri": "https://localhost:8080/",
          "height": 424
        },
        "id": "s2KJe02sVODP",
        "outputId": "a17b7cc9-d07c-4e21-f27e-f35315939899"
      },
      "outputs": [
        {
          "data": {
            "text/html": [
              "\n",
              "  <div id=\"df-f7246672-aeae-4118-9018-47a6bd392a60\">\n",
              "    <div class=\"colab-df-container\">\n",
              "      <div>\n",
              "<style scoped>\n",
              "    .dataframe tbody tr th:only-of-type {\n",
              "        vertical-align: middle;\n",
              "    }\n",
              "\n",
              "    .dataframe tbody tr th {\n",
              "        vertical-align: top;\n",
              "    }\n",
              "\n",
              "    .dataframe thead th {\n",
              "        text-align: right;\n",
              "    }\n",
              "</style>\n",
              "<table border=\"1\" class=\"dataframe\">\n",
              "  <thead>\n",
              "    <tr style=\"text-align: right;\">\n",
              "      <th></th>\n",
              "      <th>ID</th>\n",
              "      <th>Text</th>\n",
              "      <th>CLASS</th>\n",
              "    </tr>\n",
              "  </thead>\n",
              "  <tbody>\n",
              "    <tr>\n",
              "      <th>0</th>\n",
              "      <td>178</td>\n",
              "      <td>!:)I could pass out here and survive the zombi...</td>\n",
              "      <td>1</td>\n",
              "    </tr>\n",
              "    <tr>\n",
              "      <th>1</th>\n",
              "      <td>344</td>\n",
              "      <td>15% tips sneaked into our bill even though we ...</td>\n",
              "      <td>2</td>\n",
              "    </tr>\n",
              "    <tr>\n",
              "      <th>2</th>\n",
              "      <td>2324</td>\n",
              "      <td>How bad could it be? I thought  After all  its...</td>\n",
              "      <td>2</td>\n",
              "    </tr>\n",
              "    <tr>\n",
              "      <th>3</th>\n",
              "      <td>3217</td>\n",
              "      <td>Jordan is awesome! I have a lot of muscle tens...</td>\n",
              "      <td>1</td>\n",
              "    </tr>\n",
              "    <tr>\n",
              "      <th>4</th>\n",
              "      <td>3705</td>\n",
              "      <td>Micheals Arts and CraftsWell  they live under ...</td>\n",
              "      <td>1</td>\n",
              "    </tr>\n",
              "    <tr>\n",
              "      <th>...</th>\n",
              "      <td>...</td>\n",
              "      <td>...</td>\n",
              "      <td>...</td>\n",
              "    </tr>\n",
              "    <tr>\n",
              "      <th>13995</th>\n",
              "      <td>6662447</td>\n",
              "      <td>wifi doesnt work  Also  even it works  it is v...</td>\n",
              "      <td>2</td>\n",
              "    </tr>\n",
              "    <tr>\n",
              "      <th>13996</th>\n",
              "      <td>6662575</td>\n",
              "      <td>wish I could select zero stars   This place wa...</td>\n",
              "      <td>2</td>\n",
              "    </tr>\n",
              "    <tr>\n",
              "      <th>13997</th>\n",
              "      <td>6664830</td>\n",
              "      <td>ya know this place is so good  and so unassumi...</td>\n",
              "      <td>1</td>\n",
              "    </tr>\n",
              "    <tr>\n",
              "      <th>13998</th>\n",
              "      <td>6665591</td>\n",
              "      <td>you definitely dont want to bring a first date...</td>\n",
              "      <td>1</td>\n",
              "    </tr>\n",
              "    <tr>\n",
              "      <th>13999</th>\n",
              "      <td>6666002</td>\n",
              "      <td>yum the grilled pineapple is amazing  The pork...</td>\n",
              "      <td>1</td>\n",
              "    </tr>\n",
              "  </tbody>\n",
              "</table>\n",
              "<p>14000 rows × 3 columns</p>\n",
              "</div>\n",
              "      <button class=\"colab-df-convert\" onclick=\"convertToInteractive('df-f7246672-aeae-4118-9018-47a6bd392a60')\"\n",
              "              title=\"Convert this dataframe to an interactive table.\"\n",
              "              style=\"display:none;\">\n",
              "        \n",
              "  <svg xmlns=\"http://www.w3.org/2000/svg\" height=\"24px\"viewBox=\"0 0 24 24\"\n",
              "       width=\"24px\">\n",
              "    <path d=\"M0 0h24v24H0V0z\" fill=\"none\"/>\n",
              "    <path d=\"M18.56 5.44l.94 2.06.94-2.06 2.06-.94-2.06-.94-.94-2.06-.94 2.06-2.06.94zm-11 1L8.5 8.5l.94-2.06 2.06-.94-2.06-.94L8.5 2.5l-.94 2.06-2.06.94zm10 10l.94 2.06.94-2.06 2.06-.94-2.06-.94-.94-2.06-.94 2.06-2.06.94z\"/><path d=\"M17.41 7.96l-1.37-1.37c-.4-.4-.92-.59-1.43-.59-.52 0-1.04.2-1.43.59L10.3 9.45l-7.72 7.72c-.78.78-.78 2.05 0 2.83L4 21.41c.39.39.9.59 1.41.59.51 0 1.02-.2 1.41-.59l7.78-7.78 2.81-2.81c.8-.78.8-2.07 0-2.86zM5.41 20L4 18.59l7.72-7.72 1.47 1.35L5.41 20z\"/>\n",
              "  </svg>\n",
              "      </button>\n",
              "      \n",
              "  <style>\n",
              "    .colab-df-container {\n",
              "      display:flex;\n",
              "      flex-wrap:wrap;\n",
              "      gap: 12px;\n",
              "    }\n",
              "\n",
              "    .colab-df-convert {\n",
              "      background-color: #E8F0FE;\n",
              "      border: none;\n",
              "      border-radius: 50%;\n",
              "      cursor: pointer;\n",
              "      display: none;\n",
              "      fill: #1967D2;\n",
              "      height: 32px;\n",
              "      padding: 0 0 0 0;\n",
              "      width: 32px;\n",
              "    }\n",
              "\n",
              "    .colab-df-convert:hover {\n",
              "      background-color: #E2EBFA;\n",
              "      box-shadow: 0px 1px 2px rgba(60, 64, 67, 0.3), 0px 1px 3px 1px rgba(60, 64, 67, 0.15);\n",
              "      fill: #174EA6;\n",
              "    }\n",
              "\n",
              "    [theme=dark] .colab-df-convert {\n",
              "      background-color: #3B4455;\n",
              "      fill: #D2E3FC;\n",
              "    }\n",
              "\n",
              "    [theme=dark] .colab-df-convert:hover {\n",
              "      background-color: #434B5C;\n",
              "      box-shadow: 0px 1px 3px 1px rgba(0, 0, 0, 0.15);\n",
              "      filter: drop-shadow(0px 1px 2px rgba(0, 0, 0, 0.3));\n",
              "      fill: #FFFFFF;\n",
              "    }\n",
              "  </style>\n",
              "\n",
              "      <script>\n",
              "        const buttonEl =\n",
              "          document.querySelector('#df-f7246672-aeae-4118-9018-47a6bd392a60 button.colab-df-convert');\n",
              "        buttonEl.style.display =\n",
              "          google.colab.kernel.accessAllowed ? 'block' : 'none';\n",
              "\n",
              "        async function convertToInteractive(key) {\n",
              "          const element = document.querySelector('#df-f7246672-aeae-4118-9018-47a6bd392a60');\n",
              "          const dataTable =\n",
              "            await google.colab.kernel.invokeFunction('convertToInteractive',\n",
              "                                                     [key], {});\n",
              "          if (!dataTable) return;\n",
              "\n",
              "          const docLinkHtml = 'Like what you see? Visit the ' +\n",
              "            '<a target=\"_blank\" href=https://colab.research.google.com/notebooks/data_table.ipynb>data table notebook</a>'\n",
              "            + ' to learn more about interactive tables.';\n",
              "          element.innerHTML = '';\n",
              "          dataTable['output_type'] = 'display_data';\n",
              "          await google.colab.output.renderOutput(dataTable, element);\n",
              "          const docLink = document.createElement('div');\n",
              "          docLink.innerHTML = docLinkHtml;\n",
              "          element.appendChild(docLink);\n",
              "        }\n",
              "      </script>\n",
              "    </div>\n",
              "  </div>\n",
              "  "
            ],
            "text/plain": [
              "            ID                                               Text  CLASS\n",
              "0          178  !:)I could pass out here and survive the zombi...      1\n",
              "1          344  15% tips sneaked into our bill even though we ...      2\n",
              "2         2324  How bad could it be? I thought  After all  its...      2\n",
              "3         3217  Jordan is awesome! I have a lot of muscle tens...      1\n",
              "4         3705  Micheals Arts and CraftsWell  they live under ...      1\n",
              "...        ...                                                ...    ...\n",
              "13995  6662447  wifi doesnt work  Also  even it works  it is v...      2\n",
              "13996  6662575  wish I could select zero stars   This place wa...      2\n",
              "13997  6664830  ya know this place is so good  and so unassumi...      1\n",
              "13998  6665591  you definitely dont want to bring a first date...      1\n",
              "13999  6666002  yum the grilled pineapple is amazing  The pork...      1\n",
              "\n",
              "[14000 rows x 3 columns]"
            ]
          },
          "execution_count": 21,
          "metadata": {},
          "output_type": "execute_result"
        }
      ],
      "source": [
        "predictions_df['CLASS'] = pd.Series(classes_x)\n",
        "predictions_df"
      ]
    },
    {
      "cell_type": "code",
      "execution_count": null,
      "metadata": {
        "colab": {
          "base_uri": "https://localhost:8080/",
          "height": 424
        },
        "id": "FKSc6JSqVQUg",
        "outputId": "ac17e5d8-7533-4954-ae9c-ae294e2cf887"
      },
      "outputs": [
        {
          "data": {
            "text/html": [
              "\n",
              "  <div id=\"df-76be9c37-bdeb-4304-bcaa-ffb5744cb202\">\n",
              "    <div class=\"colab-df-container\">\n",
              "      <div>\n",
              "<style scoped>\n",
              "    .dataframe tbody tr th:only-of-type {\n",
              "        vertical-align: middle;\n",
              "    }\n",
              "\n",
              "    .dataframe tbody tr th {\n",
              "        vertical-align: top;\n",
              "    }\n",
              "\n",
              "    .dataframe thead th {\n",
              "        text-align: right;\n",
              "    }\n",
              "</style>\n",
              "<table border=\"1\" class=\"dataframe\">\n",
              "  <thead>\n",
              "    <tr style=\"text-align: right;\">\n",
              "      <th></th>\n",
              "      <th>ID</th>\n",
              "      <th>Text</th>\n",
              "      <th>CLASS</th>\n",
              "    </tr>\n",
              "  </thead>\n",
              "  <tbody>\n",
              "    <tr>\n",
              "      <th>0</th>\n",
              "      <td>178</td>\n",
              "      <td>!:)I could pass out here and survive the zombi...</td>\n",
              "      <td>positive</td>\n",
              "    </tr>\n",
              "    <tr>\n",
              "      <th>1</th>\n",
              "      <td>344</td>\n",
              "      <td>15% tips sneaked into our bill even though we ...</td>\n",
              "      <td>negative</td>\n",
              "    </tr>\n",
              "    <tr>\n",
              "      <th>2</th>\n",
              "      <td>2324</td>\n",
              "      <td>How bad could it be? I thought  After all  its...</td>\n",
              "      <td>negative</td>\n",
              "    </tr>\n",
              "    <tr>\n",
              "      <th>3</th>\n",
              "      <td>3217</td>\n",
              "      <td>Jordan is awesome! I have a lot of muscle tens...</td>\n",
              "      <td>positive</td>\n",
              "    </tr>\n",
              "    <tr>\n",
              "      <th>4</th>\n",
              "      <td>3705</td>\n",
              "      <td>Micheals Arts and CraftsWell  they live under ...</td>\n",
              "      <td>positive</td>\n",
              "    </tr>\n",
              "    <tr>\n",
              "      <th>...</th>\n",
              "      <td>...</td>\n",
              "      <td>...</td>\n",
              "      <td>...</td>\n",
              "    </tr>\n",
              "    <tr>\n",
              "      <th>13995</th>\n",
              "      <td>6662447</td>\n",
              "      <td>wifi doesnt work  Also  even it works  it is v...</td>\n",
              "      <td>negative</td>\n",
              "    </tr>\n",
              "    <tr>\n",
              "      <th>13996</th>\n",
              "      <td>6662575</td>\n",
              "      <td>wish I could select zero stars   This place wa...</td>\n",
              "      <td>negative</td>\n",
              "    </tr>\n",
              "    <tr>\n",
              "      <th>13997</th>\n",
              "      <td>6664830</td>\n",
              "      <td>ya know this place is so good  and so unassumi...</td>\n",
              "      <td>positive</td>\n",
              "    </tr>\n",
              "    <tr>\n",
              "      <th>13998</th>\n",
              "      <td>6665591</td>\n",
              "      <td>you definitely dont want to bring a first date...</td>\n",
              "      <td>positive</td>\n",
              "    </tr>\n",
              "    <tr>\n",
              "      <th>13999</th>\n",
              "      <td>6666002</td>\n",
              "      <td>yum the grilled pineapple is amazing  The pork...</td>\n",
              "      <td>positive</td>\n",
              "    </tr>\n",
              "  </tbody>\n",
              "</table>\n",
              "<p>14000 rows × 3 columns</p>\n",
              "</div>\n",
              "      <button class=\"colab-df-convert\" onclick=\"convertToInteractive('df-76be9c37-bdeb-4304-bcaa-ffb5744cb202')\"\n",
              "              title=\"Convert this dataframe to an interactive table.\"\n",
              "              style=\"display:none;\">\n",
              "        \n",
              "  <svg xmlns=\"http://www.w3.org/2000/svg\" height=\"24px\"viewBox=\"0 0 24 24\"\n",
              "       width=\"24px\">\n",
              "    <path d=\"M0 0h24v24H0V0z\" fill=\"none\"/>\n",
              "    <path d=\"M18.56 5.44l.94 2.06.94-2.06 2.06-.94-2.06-.94-.94-2.06-.94 2.06-2.06.94zm-11 1L8.5 8.5l.94-2.06 2.06-.94-2.06-.94L8.5 2.5l-.94 2.06-2.06.94zm10 10l.94 2.06.94-2.06 2.06-.94-2.06-.94-.94-2.06-.94 2.06-2.06.94z\"/><path d=\"M17.41 7.96l-1.37-1.37c-.4-.4-.92-.59-1.43-.59-.52 0-1.04.2-1.43.59L10.3 9.45l-7.72 7.72c-.78.78-.78 2.05 0 2.83L4 21.41c.39.39.9.59 1.41.59.51 0 1.02-.2 1.41-.59l7.78-7.78 2.81-2.81c.8-.78.8-2.07 0-2.86zM5.41 20L4 18.59l7.72-7.72 1.47 1.35L5.41 20z\"/>\n",
              "  </svg>\n",
              "      </button>\n",
              "      \n",
              "  <style>\n",
              "    .colab-df-container {\n",
              "      display:flex;\n",
              "      flex-wrap:wrap;\n",
              "      gap: 12px;\n",
              "    }\n",
              "\n",
              "    .colab-df-convert {\n",
              "      background-color: #E8F0FE;\n",
              "      border: none;\n",
              "      border-radius: 50%;\n",
              "      cursor: pointer;\n",
              "      display: none;\n",
              "      fill: #1967D2;\n",
              "      height: 32px;\n",
              "      padding: 0 0 0 0;\n",
              "      width: 32px;\n",
              "    }\n",
              "\n",
              "    .colab-df-convert:hover {\n",
              "      background-color: #E2EBFA;\n",
              "      box-shadow: 0px 1px 2px rgba(60, 64, 67, 0.3), 0px 1px 3px 1px rgba(60, 64, 67, 0.15);\n",
              "      fill: #174EA6;\n",
              "    }\n",
              "\n",
              "    [theme=dark] .colab-df-convert {\n",
              "      background-color: #3B4455;\n",
              "      fill: #D2E3FC;\n",
              "    }\n",
              "\n",
              "    [theme=dark] .colab-df-convert:hover {\n",
              "      background-color: #434B5C;\n",
              "      box-shadow: 0px 1px 3px 1px rgba(0, 0, 0, 0.15);\n",
              "      filter: drop-shadow(0px 1px 2px rgba(0, 0, 0, 0.3));\n",
              "      fill: #FFFFFF;\n",
              "    }\n",
              "  </style>\n",
              "\n",
              "      <script>\n",
              "        const buttonEl =\n",
              "          document.querySelector('#df-76be9c37-bdeb-4304-bcaa-ffb5744cb202 button.colab-df-convert');\n",
              "        buttonEl.style.display =\n",
              "          google.colab.kernel.accessAllowed ? 'block' : 'none';\n",
              "\n",
              "        async function convertToInteractive(key) {\n",
              "          const element = document.querySelector('#df-76be9c37-bdeb-4304-bcaa-ffb5744cb202');\n",
              "          const dataTable =\n",
              "            await google.colab.kernel.invokeFunction('convertToInteractive',\n",
              "                                                     [key], {});\n",
              "          if (!dataTable) return;\n",
              "\n",
              "          const docLinkHtml = 'Like what you see? Visit the ' +\n",
              "            '<a target=\"_blank\" href=https://colab.research.google.com/notebooks/data_table.ipynb>data table notebook</a>'\n",
              "            + ' to learn more about interactive tables.';\n",
              "          element.innerHTML = '';\n",
              "          dataTable['output_type'] = 'display_data';\n",
              "          await google.colab.output.renderOutput(dataTable, element);\n",
              "          const docLink = document.createElement('div');\n",
              "          docLink.innerHTML = docLinkHtml;\n",
              "          element.appendChild(docLink);\n",
              "        }\n",
              "      </script>\n",
              "    </div>\n",
              "  </div>\n",
              "  "
            ],
            "text/plain": [
              "            ID                                               Text     CLASS\n",
              "0          178  !:)I could pass out here and survive the zombi...  positive\n",
              "1          344  15% tips sneaked into our bill even though we ...  negative\n",
              "2         2324  How bad could it be? I thought  After all  its...  negative\n",
              "3         3217  Jordan is awesome! I have a lot of muscle tens...  positive\n",
              "4         3705  Micheals Arts and CraftsWell  they live under ...  positive\n",
              "...        ...                                                ...       ...\n",
              "13995  6662447  wifi doesnt work  Also  even it works  it is v...  negative\n",
              "13996  6662575  wish I could select zero stars   This place wa...  negative\n",
              "13997  6664830  ya know this place is so good  and so unassumi...  positive\n",
              "13998  6665591  you definitely dont want to bring a first date...  positive\n",
              "13999  6666002  yum the grilled pineapple is amazing  The pork...  positive\n",
              "\n",
              "[14000 rows x 3 columns]"
            ]
          },
          "execution_count": 22,
          "metadata": {},
          "output_type": "execute_result"
        }
      ],
      "source": [
        "def convert_num_to_class(val):\n",
        "  if val == 1:\n",
        "    return 'positive'\n",
        "  elif val == 0:\n",
        "    return 'neutral'\n",
        "  else:\n",
        "    return 'negative'\n",
        "predictions_df['CLASS'] = predictions_df['CLASS'].map(convert_num_to_class)\n",
        "predictions_df"
      ]
    },
    {
      "cell_type": "code",
      "execution_count": null,
      "metadata": {
        "colab": {
          "base_uri": "https://localhost:8080/",
          "height": 424
        },
        "id": "DwQt6ur7VTTB",
        "outputId": "57e1fdba-7716-471d-d808-65d961cf5635"
      },
      "outputs": [
        {
          "data": {
            "text/html": [
              "\n",
              "  <div id=\"df-85ed4594-d15c-47b1-94e4-776ec3903b7b\">\n",
              "    <div class=\"colab-df-container\">\n",
              "      <div>\n",
              "<style scoped>\n",
              "    .dataframe tbody tr th:only-of-type {\n",
              "        vertical-align: middle;\n",
              "    }\n",
              "\n",
              "    .dataframe tbody tr th {\n",
              "        vertical-align: top;\n",
              "    }\n",
              "\n",
              "    .dataframe thead th {\n",
              "        text-align: right;\n",
              "    }\n",
              "</style>\n",
              "<table border=\"1\" class=\"dataframe\">\n",
              "  <thead>\n",
              "    <tr style=\"text-align: right;\">\n",
              "      <th></th>\n",
              "      <th>REVIEW-ID</th>\n",
              "      <th>Text</th>\n",
              "      <th>CLASS</th>\n",
              "    </tr>\n",
              "  </thead>\n",
              "  <tbody>\n",
              "    <tr>\n",
              "      <th>0</th>\n",
              "      <td>178</td>\n",
              "      <td>!:)I could pass out here and survive the zombi...</td>\n",
              "      <td>positive</td>\n",
              "    </tr>\n",
              "    <tr>\n",
              "      <th>1</th>\n",
              "      <td>344</td>\n",
              "      <td>15% tips sneaked into our bill even though we ...</td>\n",
              "      <td>negative</td>\n",
              "    </tr>\n",
              "    <tr>\n",
              "      <th>2</th>\n",
              "      <td>2324</td>\n",
              "      <td>How bad could it be? I thought  After all  its...</td>\n",
              "      <td>negative</td>\n",
              "    </tr>\n",
              "    <tr>\n",
              "      <th>3</th>\n",
              "      <td>3217</td>\n",
              "      <td>Jordan is awesome! I have a lot of muscle tens...</td>\n",
              "      <td>positive</td>\n",
              "    </tr>\n",
              "    <tr>\n",
              "      <th>4</th>\n",
              "      <td>3705</td>\n",
              "      <td>Micheals Arts and CraftsWell  they live under ...</td>\n",
              "      <td>positive</td>\n",
              "    </tr>\n",
              "    <tr>\n",
              "      <th>...</th>\n",
              "      <td>...</td>\n",
              "      <td>...</td>\n",
              "      <td>...</td>\n",
              "    </tr>\n",
              "    <tr>\n",
              "      <th>13995</th>\n",
              "      <td>6662447</td>\n",
              "      <td>wifi doesnt work  Also  even it works  it is v...</td>\n",
              "      <td>negative</td>\n",
              "    </tr>\n",
              "    <tr>\n",
              "      <th>13996</th>\n",
              "      <td>6662575</td>\n",
              "      <td>wish I could select zero stars   This place wa...</td>\n",
              "      <td>negative</td>\n",
              "    </tr>\n",
              "    <tr>\n",
              "      <th>13997</th>\n",
              "      <td>6664830</td>\n",
              "      <td>ya know this place is so good  and so unassumi...</td>\n",
              "      <td>positive</td>\n",
              "    </tr>\n",
              "    <tr>\n",
              "      <th>13998</th>\n",
              "      <td>6665591</td>\n",
              "      <td>you definitely dont want to bring a first date...</td>\n",
              "      <td>positive</td>\n",
              "    </tr>\n",
              "    <tr>\n",
              "      <th>13999</th>\n",
              "      <td>6666002</td>\n",
              "      <td>yum the grilled pineapple is amazing  The pork...</td>\n",
              "      <td>positive</td>\n",
              "    </tr>\n",
              "  </tbody>\n",
              "</table>\n",
              "<p>14000 rows × 3 columns</p>\n",
              "</div>\n",
              "      <button class=\"colab-df-convert\" onclick=\"convertToInteractive('df-85ed4594-d15c-47b1-94e4-776ec3903b7b')\"\n",
              "              title=\"Convert this dataframe to an interactive table.\"\n",
              "              style=\"display:none;\">\n",
              "        \n",
              "  <svg xmlns=\"http://www.w3.org/2000/svg\" height=\"24px\"viewBox=\"0 0 24 24\"\n",
              "       width=\"24px\">\n",
              "    <path d=\"M0 0h24v24H0V0z\" fill=\"none\"/>\n",
              "    <path d=\"M18.56 5.44l.94 2.06.94-2.06 2.06-.94-2.06-.94-.94-2.06-.94 2.06-2.06.94zm-11 1L8.5 8.5l.94-2.06 2.06-.94-2.06-.94L8.5 2.5l-.94 2.06-2.06.94zm10 10l.94 2.06.94-2.06 2.06-.94-2.06-.94-.94-2.06-.94 2.06-2.06.94z\"/><path d=\"M17.41 7.96l-1.37-1.37c-.4-.4-.92-.59-1.43-.59-.52 0-1.04.2-1.43.59L10.3 9.45l-7.72 7.72c-.78.78-.78 2.05 0 2.83L4 21.41c.39.39.9.59 1.41.59.51 0 1.02-.2 1.41-.59l7.78-7.78 2.81-2.81c.8-.78.8-2.07 0-2.86zM5.41 20L4 18.59l7.72-7.72 1.47 1.35L5.41 20z\"/>\n",
              "  </svg>\n",
              "      </button>\n",
              "      \n",
              "  <style>\n",
              "    .colab-df-container {\n",
              "      display:flex;\n",
              "      flex-wrap:wrap;\n",
              "      gap: 12px;\n",
              "    }\n",
              "\n",
              "    .colab-df-convert {\n",
              "      background-color: #E8F0FE;\n",
              "      border: none;\n",
              "      border-radius: 50%;\n",
              "      cursor: pointer;\n",
              "      display: none;\n",
              "      fill: #1967D2;\n",
              "      height: 32px;\n",
              "      padding: 0 0 0 0;\n",
              "      width: 32px;\n",
              "    }\n",
              "\n",
              "    .colab-df-convert:hover {\n",
              "      background-color: #E2EBFA;\n",
              "      box-shadow: 0px 1px 2px rgba(60, 64, 67, 0.3), 0px 1px 3px 1px rgba(60, 64, 67, 0.15);\n",
              "      fill: #174EA6;\n",
              "    }\n",
              "\n",
              "    [theme=dark] .colab-df-convert {\n",
              "      background-color: #3B4455;\n",
              "      fill: #D2E3FC;\n",
              "    }\n",
              "\n",
              "    [theme=dark] .colab-df-convert:hover {\n",
              "      background-color: #434B5C;\n",
              "      box-shadow: 0px 1px 3px 1px rgba(0, 0, 0, 0.15);\n",
              "      filter: drop-shadow(0px 1px 2px rgba(0, 0, 0, 0.3));\n",
              "      fill: #FFFFFF;\n",
              "    }\n",
              "  </style>\n",
              "\n",
              "      <script>\n",
              "        const buttonEl =\n",
              "          document.querySelector('#df-85ed4594-d15c-47b1-94e4-776ec3903b7b button.colab-df-convert');\n",
              "        buttonEl.style.display =\n",
              "          google.colab.kernel.accessAllowed ? 'block' : 'none';\n",
              "\n",
              "        async function convertToInteractive(key) {\n",
              "          const element = document.querySelector('#df-85ed4594-d15c-47b1-94e4-776ec3903b7b');\n",
              "          const dataTable =\n",
              "            await google.colab.kernel.invokeFunction('convertToInteractive',\n",
              "                                                     [key], {});\n",
              "          if (!dataTable) return;\n",
              "\n",
              "          const docLinkHtml = 'Like what you see? Visit the ' +\n",
              "            '<a target=\"_blank\" href=https://colab.research.google.com/notebooks/data_table.ipynb>data table notebook</a>'\n",
              "            + ' to learn more about interactive tables.';\n",
              "          element.innerHTML = '';\n",
              "          dataTable['output_type'] = 'display_data';\n",
              "          await google.colab.output.renderOutput(dataTable, element);\n",
              "          const docLink = document.createElement('div');\n",
              "          docLink.innerHTML = docLinkHtml;\n",
              "          element.appendChild(docLink);\n",
              "        }\n",
              "      </script>\n",
              "    </div>\n",
              "  </div>\n",
              "  "
            ],
            "text/plain": [
              "       REVIEW-ID                                               Text     CLASS\n",
              "0            178  !:)I could pass out here and survive the zombi...  positive\n",
              "1            344  15% tips sneaked into our bill even though we ...  negative\n",
              "2           2324  How bad could it be? I thought  After all  its...  negative\n",
              "3           3217  Jordan is awesome! I have a lot of muscle tens...  positive\n",
              "4           3705  Micheals Arts and CraftsWell  they live under ...  positive\n",
              "...          ...                                                ...       ...\n",
              "13995    6662447  wifi doesnt work  Also  even it works  it is v...  negative\n",
              "13996    6662575  wish I could select zero stars   This place wa...  negative\n",
              "13997    6664830  ya know this place is so good  and so unassumi...  positive\n",
              "13998    6665591  you definitely dont want to bring a first date...  positive\n",
              "13999    6666002  yum the grilled pineapple is amazing  The pork...  positive\n",
              "\n",
              "[14000 rows x 3 columns]"
            ]
          },
          "execution_count": 23,
          "metadata": {},
          "output_type": "execute_result"
        }
      ],
      "source": [
        "predictions_df.rename({'ID': 'REVIEW-ID'}, axis=1, inplace=True)\n",
        "predictions_df"
      ]
    },
    {
      "cell_type": "code",
      "execution_count": null,
      "metadata": {
        "id": "iOix4PjIVWKZ"
      },
      "outputs": [],
      "source": [
        "# df.to_csv('result.csv',index=False)\n",
        "header = [\"REVIEW-ID\", \"CLASS\"]\n",
        "predictions_df.to_csv('/content/gdrive/MyDrive/prediction.csv', columns = header, index=False)"
      ]
    }
  ],
  "metadata": {
    "accelerator": "GPU",
    "colab": {
      "provenance": []
    },
    "gpuClass": "standard",
    "kernelspec": {
      "display_name": "Python 3",
      "name": "python3"
    }
  },
  "nbformat": 4,
  "nbformat_minor": 0
}
